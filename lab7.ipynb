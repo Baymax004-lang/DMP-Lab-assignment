{
 "cells": [
  {
   "cell_type": "code",
   "execution_count": 1,
   "id": "38f0bef6-f469-4eed-8963-c995c4a93755",
   "metadata": {},
   "outputs": [
    {
     "name": "stdout",
     "output_type": "stream",
     "text": [
      "       Name  Roll_no  Age  M1  M2  M3  M4\n",
      "0   Ashwani        5   20  84  96  56  86\n",
      "1   Sushant       13   22  83  95  86  87\n",
      "2   Debjeet        2   19  95  98  83  98\n",
      "3       jay       22   20  85  97  89  95\n",
      "4     shaan        8   19  88  85  84  62\n",
      "5   solomon       16   20  95  86  88  85\n",
      "6  suvrajit        6   19  87  81  83  95\n"
     ]
    }
   ],
   "source": [
    "import pandas as pd\n",
    "import numpy as np\n",
    "\n",
    "student = {'Name': ['Ashwani', 'Sushant', 'Debjeet', 'jay', 'shaan', 'solomon', 'suvrajit'],\n",
    "           'Roll_no': [5, 13, 2, 22, 8, 16, 6],\n",
    "           'Age': [20, 22, 19, 20, 19, 20, 19],\n",
    "           'M1': [84, 83, 95, 85, 88, 95, 87],\n",
    "           'M2': [96, 95, 98, 97, 85, 86, 81],\n",
    "           'M3': [56, 86, 83, 89, 84, 88, 83],\n",
    "           'M4': [86, 87, 98, 95, 62, 85, 95]}\n",
    "\n",
    "df = pd.DataFrame(student) \n",
    "print(df)"
   ]
  },
  {
   "cell_type": "code",
   "execution_count": 3,
   "id": "43e56ce7-8bf1-4427-a5ed-ad682caac414",
   "metadata": {},
   "outputs": [
    {
     "data": {
      "text/html": [
       "<div>\n",
       "<style scoped>\n",
       "    .dataframe tbody tr th:only-of-type {\n",
       "        vertical-align: middle;\n",
       "    }\n",
       "\n",
       "    .dataframe tbody tr th {\n",
       "        vertical-align: top;\n",
       "    }\n",
       "\n",
       "    .dataframe thead th {\n",
       "        text-align: right;\n",
       "    }\n",
       "</style>\n",
       "<table border=\"1\" class=\"dataframe\">\n",
       "  <thead>\n",
       "    <tr style=\"text-align: right;\">\n",
       "      <th></th>\n",
       "      <th>Name</th>\n",
       "      <th>Roll_no</th>\n",
       "      <th>Age</th>\n",
       "      <th>M1</th>\n",
       "      <th>M2</th>\n",
       "      <th>M3</th>\n",
       "      <th>M4</th>\n",
       "    </tr>\n",
       "  </thead>\n",
       "  <tbody>\n",
       "    <tr>\n",
       "      <th>0</th>\n",
       "      <td>Ashwani</td>\n",
       "      <td>5</td>\n",
       "      <td>20</td>\n",
       "      <td>84</td>\n",
       "      <td>96</td>\n",
       "      <td>56</td>\n",
       "      <td>86</td>\n",
       "    </tr>\n",
       "    <tr>\n",
       "      <th>1</th>\n",
       "      <td>Sushant</td>\n",
       "      <td>13</td>\n",
       "      <td>22</td>\n",
       "      <td>83</td>\n",
       "      <td>95</td>\n",
       "      <td>86</td>\n",
       "      <td>87</td>\n",
       "    </tr>\n",
       "    <tr>\n",
       "      <th>2</th>\n",
       "      <td>Debjeet</td>\n",
       "      <td>2</td>\n",
       "      <td>19</td>\n",
       "      <td>95</td>\n",
       "      <td>98</td>\n",
       "      <td>83</td>\n",
       "      <td>98</td>\n",
       "    </tr>\n",
       "    <tr>\n",
       "      <th>3</th>\n",
       "      <td>jay</td>\n",
       "      <td>22</td>\n",
       "      <td>20</td>\n",
       "      <td>85</td>\n",
       "      <td>97</td>\n",
       "      <td>89</td>\n",
       "      <td>95</td>\n",
       "    </tr>\n",
       "    <tr>\n",
       "      <th>4</th>\n",
       "      <td>shaan</td>\n",
       "      <td>8</td>\n",
       "      <td>19</td>\n",
       "      <td>88</td>\n",
       "      <td>85</td>\n",
       "      <td>84</td>\n",
       "      <td>62</td>\n",
       "    </tr>\n",
       "    <tr>\n",
       "      <th>5</th>\n",
       "      <td>solomon</td>\n",
       "      <td>16</td>\n",
       "      <td>20</td>\n",
       "      <td>95</td>\n",
       "      <td>86</td>\n",
       "      <td>88</td>\n",
       "      <td>85</td>\n",
       "    </tr>\n",
       "    <tr>\n",
       "      <th>6</th>\n",
       "      <td>suvrajit</td>\n",
       "      <td>6</td>\n",
       "      <td>19</td>\n",
       "      <td>87</td>\n",
       "      <td>81</td>\n",
       "      <td>83</td>\n",
       "      <td>95</td>\n",
       "    </tr>\n",
       "  </tbody>\n",
       "</table>\n",
       "</div>"
      ],
      "text/plain": [
       "       Name  Roll_no  Age  M1  M2  M3  M4\n",
       "0   Ashwani        5   20  84  96  56  86\n",
       "1   Sushant       13   22  83  95  86  87\n",
       "2   Debjeet        2   19  95  98  83  98\n",
       "3       jay       22   20  85  97  89  95\n",
       "4     shaan        8   19  88  85  84  62\n",
       "5   solomon       16   20  95  86  88  85\n",
       "6  suvrajit        6   19  87  81  83  95"
      ]
     },
     "execution_count": 3,
     "metadata": {},
     "output_type": "execute_result"
    }
   ],
   "source": [
    "df.dropna()"
   ]
  },
  {
   "cell_type": "code",
   "execution_count": 5,
   "id": "aa0aef71-1802-4d82-abf7-3dbb258de4ed",
   "metadata": {},
   "outputs": [
    {
     "name": "stdout",
     "output_type": "stream",
     "text": [
      "       Name  Roll_no  Age  M1  M2  M3  M4\n",
      "0   Ashwani        5   20  84  96  56  86\n",
      "1   Sushant       13   22  83  95  86  87\n",
      "2   Debjeet        2   19  95  98  83  98\n",
      "3       jay       22   20  85  97  89  95\n",
      "4     shaan        8   19  88  85  84  62\n",
      "5   solomon       16   20  95  86  88  85\n",
      "6  suvrajit        6   19  87  81  83  95\n"
     ]
    }
   ],
   "source": [
    "import pandas as pd\n",
    "import numpy as np\n",
    "\n",
    "student = {'Name': ['Ashwani', 'Sushant', 'Debjeet', 'jay', 'shaan', 'solomon', 'suvrajit'],\n",
    "           'Roll_no': [5, 13, 2, 22, 8, 16, 6],\n",
    "           'Age': [20, 22, 19, 20, 19, 20, 19],\n",
    "           'M1': [84, 83, 95, 85, 88, 95, 87],\n",
    "           'M2': [96, 95, 98, 97, 85, 86, 81],\n",
    "           'M3': [56, 86, 83, 89, 84, 88, 83],\n",
    "           'M4': [86, 87, 98, 95, 62, 85, 95]}\n",
    "\n",
    "df = pd.DataFrame(student) \n",
    "print(df)"
   ]
  },
  {
   "cell_type": "code",
   "execution_count": 7,
   "id": "a426d8d1-f8c9-48c0-a81b-57e7e1c8d807",
   "metadata": {},
   "outputs": [
    {
     "data": {
      "text/html": [
       "<div>\n",
       "<style scoped>\n",
       "    .dataframe tbody tr th:only-of-type {\n",
       "        vertical-align: middle;\n",
       "    }\n",
       "\n",
       "    .dataframe tbody tr th {\n",
       "        vertical-align: top;\n",
       "    }\n",
       "\n",
       "    .dataframe thead th {\n",
       "        text-align: right;\n",
       "    }\n",
       "</style>\n",
       "<table border=\"1\" class=\"dataframe\">\n",
       "  <thead>\n",
       "    <tr style=\"text-align: right;\">\n",
       "      <th></th>\n",
       "      <th>Name</th>\n",
       "      <th>Roll_no</th>\n",
       "      <th>Age</th>\n",
       "      <th>M1</th>\n",
       "      <th>M2</th>\n",
       "      <th>M3</th>\n",
       "      <th>M4</th>\n",
       "    </tr>\n",
       "  </thead>\n",
       "  <tbody>\n",
       "    <tr>\n",
       "      <th>0</th>\n",
       "      <td>Ashwani</td>\n",
       "      <td>5</td>\n",
       "      <td>20</td>\n",
       "      <td>84</td>\n",
       "      <td>96</td>\n",
       "      <td>56</td>\n",
       "      <td>86</td>\n",
       "    </tr>\n",
       "    <tr>\n",
       "      <th>1</th>\n",
       "      <td>Sushant</td>\n",
       "      <td>13</td>\n",
       "      <td>22</td>\n",
       "      <td>83</td>\n",
       "      <td>95</td>\n",
       "      <td>86</td>\n",
       "      <td>87</td>\n",
       "    </tr>\n",
       "    <tr>\n",
       "      <th>2</th>\n",
       "      <td>Debjeet</td>\n",
       "      <td>2</td>\n",
       "      <td>19</td>\n",
       "      <td>95</td>\n",
       "      <td>98</td>\n",
       "      <td>83</td>\n",
       "      <td>98</td>\n",
       "    </tr>\n",
       "    <tr>\n",
       "      <th>3</th>\n",
       "      <td>jay</td>\n",
       "      <td>22</td>\n",
       "      <td>20</td>\n",
       "      <td>85</td>\n",
       "      <td>97</td>\n",
       "      <td>89</td>\n",
       "      <td>95</td>\n",
       "    </tr>\n",
       "    <tr>\n",
       "      <th>4</th>\n",
       "      <td>shaan</td>\n",
       "      <td>8</td>\n",
       "      <td>19</td>\n",
       "      <td>88</td>\n",
       "      <td>85</td>\n",
       "      <td>84</td>\n",
       "      <td>62</td>\n",
       "    </tr>\n",
       "    <tr>\n",
       "      <th>5</th>\n",
       "      <td>solomon</td>\n",
       "      <td>16</td>\n",
       "      <td>20</td>\n",
       "      <td>95</td>\n",
       "      <td>86</td>\n",
       "      <td>88</td>\n",
       "      <td>85</td>\n",
       "    </tr>\n",
       "    <tr>\n",
       "      <th>6</th>\n",
       "      <td>suvrajit</td>\n",
       "      <td>6</td>\n",
       "      <td>19</td>\n",
       "      <td>87</td>\n",
       "      <td>81</td>\n",
       "      <td>83</td>\n",
       "      <td>95</td>\n",
       "    </tr>\n",
       "  </tbody>\n",
       "</table>\n",
       "</div>"
      ],
      "text/plain": [
       "       Name  Roll_no  Age  M1  M2  M3  M4\n",
       "0   Ashwani        5   20  84  96  56  86\n",
       "1   Sushant       13   22  83  95  86  87\n",
       "2   Debjeet        2   19  95  98  83  98\n",
       "3       jay       22   20  85  97  89  95\n",
       "4     shaan        8   19  88  85  84  62\n",
       "5   solomon       16   20  95  86  88  85\n",
       "6  suvrajit        6   19  87  81  83  95"
      ]
     },
     "execution_count": 7,
     "metadata": {},
     "output_type": "execute_result"
    }
   ],
   "source": [
    "df.fillna(999)"
   ]
  },
  {
   "cell_type": "code",
   "execution_count": 9,
   "id": "009206d0-a4aa-44a9-85c5-5a9d1f8a9d3e",
   "metadata": {},
   "outputs": [
    {
     "data": {
      "text/plain": [
       "0    84\n",
       "1    83\n",
       "2    95\n",
       "3    85\n",
       "4    88\n",
       "5    95\n",
       "6    87\n",
       "Name: M1, dtype: int64"
      ]
     },
     "execution_count": 9,
     "metadata": {},
     "output_type": "execute_result"
    }
   ],
   "source": [
    "df[\"M1\"].fillna(67)"
   ]
  },
  {
   "cell_type": "code",
   "execution_count": 15,
   "id": "bc867e42-d181-4b4a-b29f-0c7b1a72f1f1",
   "metadata": {},
   "outputs": [
    {
     "data": {
      "text/plain": [
       "0    56\n",
       "1    86\n",
       "2    83\n",
       "3    89\n",
       "4    84\n",
       "5    88\n",
       "6    83\n",
       "Name: M3, dtype: int64"
      ]
     },
     "execution_count": 15,
     "metadata": {},
     "output_type": "execute_result"
    }
   ],
   "source": [
    "x=df[\"M3\"].mean()\n",
    "df[\"M3\"].fillna(x)"
   ]
  },
  {
   "cell_type": "code",
   "execution_count": 17,
   "id": "e1f3cb1d-e43f-462c-bcfb-febde14a8516",
   "metadata": {},
   "outputs": [
    {
     "name": "stdout",
     "output_type": "stream",
     "text": [
      "       Name  Roll_no  Age  M1  M2  M3  M4\n",
      "0   Ashwani        5   20  84  96  56  86\n",
      "1   Sushant       13   22  83  95  86  87\n",
      "2   Debjeet        2   19  95  98  83  98\n",
      "3       jay       22   20  85  97  89  95\n",
      "4     shaan        8   19  88  85  84  62\n",
      "5   solomon       16   20  95  86  88  85\n",
      "6  suvrajit        6   19  87  81  83  95\n"
     ]
    }
   ],
   "source": [
    "import pandas as pd\n",
    "import numpy as np\n",
    "\n",
    "student = {'Name': ['Ashwani', 'Sushant', 'Debjeet', 'jay', 'shaan', 'solomon', 'suvrajit'],\n",
    "           'Roll_no': [5, 13, 2, 22, 8, 16, 6],\n",
    "           'Age': [20, 22, 19, 20, 19, 20, 19],\n",
    "           'M1': [84, 83, 95, 85, 88, 95, 87],\n",
    "           'M2': [96, 95, 98, 97, 85, 86, 81],\n",
    "           'M3': [56, 86, 83, 89, 84, 88, 83],\n",
    "           'M4': [86, 87, 98, 95, 62, 85, 95]}\n",
    "\n",
    "df = pd.DataFrame(student) \n",
    "print(df)"
   ]
  },
  {
   "cell_type": "code",
   "execution_count": 19,
   "id": "db3cd977-c970-435b-9eab-b38d96c6d0cd",
   "metadata": {},
   "outputs": [
    {
     "data": {
      "text/plain": [
       "0    84\n",
       "1    83\n",
       "2    95\n",
       "3    85\n",
       "4    88\n",
       "5    95\n",
       "6    87\n",
       "Name: M1, dtype: int64"
      ]
     },
     "execution_count": 19,
     "metadata": {},
     "output_type": "execute_result"
    }
   ],
   "source": [
    "y=df[\"M1\"].median()\n",
    "df[\"M1\"].fillna(y)"
   ]
  },
  {
   "cell_type": "code",
   "execution_count": 23,
   "id": "a56f9790-4be9-448f-8555-daac6a424a5d",
   "metadata": {},
   "outputs": [
    {
     "data": {
      "text/plain": [
       "0     56\n",
       "1     86\n",
       "2     83\n",
       "3     89\n",
       "4    456\n",
       "5    456\n",
       "6     83\n",
       "Name: M3, dtype: int64"
      ]
     },
     "execution_count": 23,
     "metadata": {},
     "output_type": "execute_result"
    }
   ],
   "source": [
    "df.loc[4,'M3']=456\n",
    "df['M3']"
   ]
  },
  {
   "cell_type": "code",
   "execution_count": 37,
   "id": "c899fd4e-71b2-43b8-9330-a0ede2d92702",
   "metadata": {},
   "outputs": [
    {
     "name": "stdout",
     "output_type": "stream",
     "text": [
      "Series([], Name: M3, dtype: int64)\n"
     ]
    }
   ],
   "source": [
    "for x in df.index:\n",
    "    if df.loc[x,'M3']<100:\n",
    "        df.drop(x,inplace=True)\n",
    "print(df['M3'])  "
   ]
  },
  {
   "cell_type": "code",
   "execution_count": null,
   "id": "6b3d44e2-4d0e-4ebd-a5e5-8d7e6e4f4b38",
   "metadata": {},
   "outputs": [],
   "source": [
    "import pandas as pd\n",
    "import numpy as np\n",
    "\n",
    "student = {'Name': ['Ashwani', 'Sushant', 'Debjeet', 'jay', 'shaan', 'solomon', 'suvrajit'],\n",
    "           'Roll_no': [5, 13, 2, 22, 8, 16, 6],\n",
    "           'Age': [20, 22, 19, 20, 19, 20, 19],\n",
    "           'M1': [84, 83, 95, 85, 88, 95, 87],\n",
    "           'M2': [96, 95, 98, 97, 85, 86, 81],\n",
    "           'M3': [56, 86, 83, 89, 84, 88, 83],\n",
    "           'M4': [86, 87, 98, 95, 62, 85, 95]}\n",
    "\n",
    "df = pd.DataFrame(student) \n",
    "print(df)"
   ]
  },
  {
   "cell_type": "code",
   "execution_count": 35,
   "id": "708c6b87-6d84-43f8-858c-ed7fa4dd0640",
   "metadata": {},
   "outputs": [
    {
     "name": "stdout",
     "output_type": "stream",
     "text": [
      "Series([], Name: M3, dtype: int64)\n"
     ]
    }
   ],
   "source": [
    "for x in df.index:\n",
    "    if df.loc[x,'M3']>100:\n",
    "        df.drop(x,inplace=True)\n",
    "print(df['M3'])  "
   ]
  },
  {
   "cell_type": "code",
   "execution_count": null,
   "id": "b599ad2f-1abd-4c4f-b5de-9c072dfcd1e7",
   "metadata": {},
   "outputs": [],
   "source": []
  }
 ],
 "metadata": {
  "kernelspec": {
   "display_name": "Python 3 (ipykernel)",
   "language": "python",
   "name": "python3"
  },
  "language_info": {
   "codemirror_mode": {
    "name": "ipython",
    "version": 3
   },
   "file_extension": ".py",
   "mimetype": "text/x-python",
   "name": "python",
   "nbconvert_exporter": "python",
   "pygments_lexer": "ipython3",
   "version": "3.12.7"
  }
 },
 "nbformat": 4,
 "nbformat_minor": 5
}
