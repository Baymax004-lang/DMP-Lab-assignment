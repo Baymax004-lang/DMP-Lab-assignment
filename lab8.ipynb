{
 "cells": [
  {
   "cell_type": "code",
   "execution_count": 3,
   "id": "2dc09be8-1cae-4234-b92e-0e0af260ea01",
   "metadata": {},
   "outputs": [
    {
     "name": "stdout",
     "output_type": "stream",
     "text": [
      "   Tid                        Items_bought\n",
      "0   20                [Beer, Nuts, Diaper]\n",
      "1   15              [Beer, Coffee, Diaper]\n",
      "2   10                [Beer, Diaper, Eggs]\n",
      "3   25                  [Nuts, Eggs, Milk]\n",
      "4   30  [Nuts, Coffee, Diaper, Eggs, Milk]\n"
     ]
    }
   ],
   "source": [
    "import pandas as pd\n",
    "import numpy as np\n",
    "itemset={'Tid':[20,15,10,25,30],\n",
    "         'Items_bought':[['Beer','Nuts','Diaper'],['Beer','Coffee','Diaper'],['Beer','Diaper','Eggs'],['Nuts','Eggs','Milk'],['Nuts','Coffee','Diaper','Eggs','Milk']],\n",
    "         }\n",
    "df=pd.DataFrame(itemset)\n",
    "print(df)"
   ]
  },
  {
   "cell_type": "code",
   "execution_count": 3,
   "id": "06317ee5-ff5d-44d3-a412-1f46b8658bcf",
   "metadata": {},
   "outputs": [
    {
     "name": "stdout",
     "output_type": "stream",
     "text": [
      "C1 (Candidate 1-itemsets) and Support Count:\n",
      "Item: Beer, Support Count: 4\n",
      "Item: Nuts, Support Count: 4\n",
      "Item: Diaper, Support Count: 6\n",
      "Item: Eggs, Support Count: 3\n",
      "Item: Coffee, Support Count: 2\n",
      "Item: Milk, Support Count: 2\n",
      "\n",
      "C2 (Candidate 2-itemsets) and Support Count:\n",
      "           2-itemset  Support Count\n",
      "0       (Beer, Nuts)              2\n",
      "1     (Beer, Diaper)              3\n",
      "2       (Beer, Eggs)              1\n",
      "3     (Beer, Coffee)              0\n",
      "4       (Beer, Milk)              2\n",
      "5     (Nuts, Diaper)              3\n",
      "6       (Nuts, Eggs)              1\n",
      "7     (Nuts, Coffee)              1\n",
      "8       (Nuts, Milk)              1\n",
      "9     (Diaper, Eggs)              3\n",
      "10  (Diaper, Coffee)              2\n",
      "11    (Diaper, Milk)              1\n",
      "12    (Eggs, Coffee)              1\n",
      "13      (Eggs, Milk)              0\n",
      "14    (Coffee, Milk)              0\n",
      "\n",
      "L2 (Frequent 2-itemsets) after applying minimum support:\n",
      "          2-itemset  Support Count\n",
      "0      (Beer, Nuts)              2\n",
      "1    (Beer, Diaper)              3\n",
      "2      (Beer, Milk)              2\n",
      "3    (Nuts, Diaper)              3\n",
      "4    (Diaper, Eggs)              3\n",
      "5  (Diaper, Coffee)              2\n"
     ]
    }
   ],
   "source": [
    "import pandas as pd\n",
    "from itertools import combinations\n",
    "\n",
    "data = {\n",
    "    'Items_bought': [\n",
    "        ['Beer', 'Nuts', 'Diaper'],\n",
    "        ['Beer', 'Diaper', 'Eggs'],\n",
    "        ['Nuts', 'Diaper', 'Coffee'],\n",
    "        ['Beer', 'Nuts', 'Milk'],\n",
    "        ['Nuts', 'Diaper', 'Eggs'],\n",
    "        ['Diaper', 'Coffee', 'Eggs'],\n",
    "        ['Milk', 'Beer', 'Diaper']\n",
    "    ]\n",
    "}\n",
    "\n",
    "df = pd.DataFrame(data)\n",
    "\n",
    "all_items = [item for sublist in df['Items_bought'] for item in sublist]\n",
    "item_counts = {}\n",
    "for item in all_items:\n",
    "    if item in item_counts:\n",
    "        item_counts[item] += 1\n",
    "    else:\n",
    "        item_counts[item] = 1\n",
    "\n",
    "print(\"C1 (Candidate 1-itemsets) and Support Count:\")\n",
    "for item, count in item_counts.items():\n",
    "    print(f\"Item: {item}, Support Count: {count}\")\n",
    "\n",
    "candidates_c2 = list(combinations(item_counts.keys(), 2))\n",
    "support_c2 = {}\n",
    "\n",
    "for pair in candidates_c2:\n",
    "    count = 0\n",
    "    for transaction in df['Items_bought']:\n",
    "        if all(item in transaction for item in pair):\n",
    "            count += 1\n",
    "    support_c2[pair] = count\n",
    "\n",
    "min_support = 2\n",
    "L2 = {pair: count for pair, count in support_c2.items() if count >= min_support}\n",
    "\n",
    "df_c2 = pd.DataFrame(support_c2.items(), columns=[\"2-itemset\", \"Support Count\"])\n",
    "df_l2 = pd.DataFrame(L2.items(), columns=[\"2-itemset\", \"Support Count\"])\n",
    "\n",
    "print(\"\\nC2 (Candidate 2-itemsets) and Support Count:\")\n",
    "print(df_c2)\n",
    "print(\"\\nL2 (Frequent 2-itemsets) after applying minimum support:\")\n",
    "print(df_l2)\n"
   ]
  },
  {
   "cell_type": "code",
   "execution_count": null,
   "id": "e2675b93-e3c2-4d46-aaf1-4e9a61324f27",
   "metadata": {},
   "outputs": [],
   "source": []
  }
 ],
 "metadata": {
  "kernelspec": {
   "display_name": "Python 3 (ipykernel)",
   "language": "python",
   "name": "python3"
  },
  "language_info": {
   "codemirror_mode": {
    "name": "ipython",
    "version": 3
   },
   "file_extension": ".py",
   "mimetype": "text/x-python",
   "name": "python",
   "nbconvert_exporter": "python",
   "pygments_lexer": "ipython3",
   "version": "3.12.7"
  }
 },
 "nbformat": 4,
 "nbformat_minor": 5
}
